{
 "cells": [
  {
   "cell_type": "code",
   "execution_count": 1,
   "metadata": {},
   "outputs": [
    {
     "name": "stdout",
     "output_type": "stream",
     "text": [
      "pygame 1.9.6\n",
      "Hello from the pygame community. https://www.pygame.org/contribute.html\n"
     ]
    }
   ],
   "source": [
    "import Dek_functies as dek\n",
    "import Kaart_class as cards\n",
    "import pygame\n",
    "import random"
   ]
  },
  {
   "cell_type": "markdown",
   "metadata": {},
   "source": [
    "Hiermee kan je een dek maken. In de vorm van een lijst in willekeurige volgorde.\n"
   ]
  },
  {
   "cell_type": "code",
   "execution_count": 2,
   "metadata": {},
   "outputs": [
    {
     "data": {
      "text/plain": [
       "list"
      ]
     },
     "execution_count": 2,
     "metadata": {},
     "output_type": "execute_result"
    }
   ],
   "source": [
    "alle_kaarten = dek.maak_dek()\n",
    "type(alle_kaarten) #type van dek"
   ]
  },
  {
   "cell_type": "markdown",
   "metadata": {},
   "source": [
    "Eerste keer delen. Neemt de eerste twaalf kaarten uit het dek en voegt deze toe aan nieuwe lijst"
   ]
  },
  {
   "cell_type": "code",
   "execution_count": 3,
   "metadata": {},
   "outputs": [
    {
     "name": "stdout",
     "output_type": "stream",
     "text": [
      "greenovalfilled1\n",
      "purpleovalempty1\n",
      "redsquiggleempty1\n",
      "redovalfilled1\n",
      "greenovalempty1\n",
      "purplediamondempty3\n",
      "greensquigglefilled3\n",
      "purplesquiggleempty1\n",
      "redovalfilled3\n",
      "purplediamondfilled1\n",
      "purplesquiggleempty3\n",
      "redsquiggleempty3\n"
     ]
    },
    {
     "data": {
      "text/plain": [
       "[]"
      ]
     },
     "execution_count": 3,
     "metadata": {},
     "output_type": "execute_result"
    }
   ],
   "source": [
    "gedeelde_kaarten = dek.eerste_keer_delen(alle_kaarten) #deelt kaarten #kan worden aangepast worden om alle kaarten tegeven om die aftedrukken in pygame\n",
    "dek.print_gedeeld(gedeelde_kaarten) \n",
    "dek.alle_sets_vinden(gedeelde_kaarten) #vindt alle sets in een verzameling van 12 kaarten."
   ]
  },
  {
   "cell_type": "code",
   "execution_count": 4,
   "metadata": {},
   "outputs": [
    {
     "name": "stdout",
     "output_type": "stream",
     "text": [
      "[]\n"
     ]
    }
   ],
   "source": [
    "gevonden_sets = dek.alle_sets_vinden(gedeelde_kaarten)\n",
    "print(gevonden_sets)"
   ]
  },
  {
   "cell_type": "code",
   "execution_count": 5,
   "metadata": {},
   "outputs": [
    {
     "ename": "IndexError",
     "evalue": "list index out of range",
     "output_type": "error",
     "traceback": [
      "\u001b[1;31m---------------------------------------------------------------------------\u001b[0m",
      "\u001b[1;31mIndexError\u001b[0m                                Traceback (most recent call last)",
      "\u001b[1;32m<ipython-input-5-8d0116fbfdb3>\u001b[0m in \u001b[0;36m<module>\u001b[1;34m\u001b[0m\n\u001b[1;32m----> 1\u001b[1;33m \u001b[0meerste\u001b[0m\u001b[1;33m=\u001b[0m \u001b[0mgevonden_sets\u001b[0m\u001b[1;33m[\u001b[0m\u001b[1;36m0\u001b[0m\u001b[1;33m]\u001b[0m\u001b[1;33m[\u001b[0m\u001b[1;36m0\u001b[0m\u001b[1;33m]\u001b[0m\u001b[1;33m+\u001b[0m\u001b[1;36m1\u001b[0m\u001b[1;33m\u001b[0m\u001b[1;33m\u001b[0m\u001b[0m\n\u001b[0m\u001b[0;32m      2\u001b[0m \u001b[0mtweede\u001b[0m\u001b[1;33m=\u001b[0m \u001b[0mgevonden_sets\u001b[0m\u001b[1;33m[\u001b[0m\u001b[1;36m0\u001b[0m\u001b[1;33m]\u001b[0m\u001b[1;33m[\u001b[0m\u001b[1;36m1\u001b[0m\u001b[1;33m]\u001b[0m\u001b[1;33m+\u001b[0m\u001b[1;36m1\u001b[0m\u001b[1;33m\u001b[0m\u001b[1;33m\u001b[0m\u001b[0m\n\u001b[0;32m      3\u001b[0m \u001b[0mderde\u001b[0m \u001b[1;33m=\u001b[0m \u001b[0mgevonden_sets\u001b[0m\u001b[1;33m[\u001b[0m\u001b[1;36m0\u001b[0m\u001b[1;33m]\u001b[0m\u001b[1;33m[\u001b[0m\u001b[1;36m2\u001b[0m\u001b[1;33m]\u001b[0m\u001b[1;33m+\u001b[0m\u001b[1;36m1\u001b[0m\u001b[1;33m\u001b[0m\u001b[1;33m\u001b[0m\u001b[0m\n\u001b[0;32m      4\u001b[0m \u001b[1;33m\u001b[0m\u001b[0m\n\u001b[0;32m      5\u001b[0m \u001b[0mdek\u001b[0m\u001b[1;33m.\u001b[0m\u001b[0mset_aanwijzen\u001b[0m\u001b[1;33m(\u001b[0m\u001b[0mgedeelde_kaarten\u001b[0m\u001b[1;33m,\u001b[0m \u001b[0meerste\u001b[0m\u001b[1;33m,\u001b[0m \u001b[0mtweede\u001b[0m\u001b[1;33m,\u001b[0m \u001b[0mderde\u001b[0m\u001b[1;33m)\u001b[0m\u001b[1;33m\u001b[0m\u001b[1;33m\u001b[0m\u001b[0m\n",
      "\u001b[1;31mIndexError\u001b[0m: list index out of range"
     ]
    }
   ],
   "source": [
    "eerste= gevonden_sets[0][0]+1\n",
    "tweede= gevonden_sets[0][1]+1\n",
    "derde = gevonden_sets[0][2]+1\n",
    "\n",
    "dek.set_aanwijzen(gedeelde_kaarten, eerste, tweede, derde)"
   ]
  },
  {
   "cell_type": "markdown",
   "metadata": {},
   "source": [
    "Dan kan je loopjes als deze maken die zeggen of het een set is.\n"
   ]
  },
  {
   "cell_type": "code",
   "execution_count": null,
   "metadata": {},
   "outputs": [],
   "source": [
    "a= cards.kaart(1,1,1,1)\n",
    "b= cards.kaart(1,1,1,0)\n",
    "c= cards.kaart(1,1,1,-1)\n",
    "\n",
    "if dek.set_of_niet( a, b, c) is True:\n",
    "    print(\"dat is een set\")\n",
    "if dek.set_of_niet( a, b, c) is False:\n",
    "    print(\"dat is geen set\")"
   ]
  },
  {
   "cell_type": "markdown",
   "metadata": {},
   "source": [
    "Laat de computer een willekeurige set uit een lijst kiezen"
   ]
  },
  {
   "cell_type": "code",
   "execution_count": null,
   "metadata": {},
   "outputs": [],
   "source": [
    "print(dek.computer_set(gevonden_sets))"
   ]
  },
  {
   "cell_type": "markdown",
   "metadata": {},
   "source": [
    "# Vervang een drietal kaarten"
   ]
  },
  {
   "cell_type": "code",
   "execution_count": null,
   "metadata": {},
   "outputs": [],
   "source": [
    "print(len(alle_kaarten))\n",
    "gedeelde_kaarten = dek.set_vervangen(gedeelde_kaarten, 1, 6, 10, alle_kaarten)\n",
    "dek.print_gedeeld(gedeelde_kaarten)\n",
    "print(len(alle_kaarten))"
   ]
  },
  {
   "cell_type": "code",
   "execution_count": null,
   "metadata": {},
   "outputs": [],
   "source": []
  }
 ],
 "metadata": {
  "kernelspec": {
   "display_name": "Python 3",
   "language": "python",
   "name": "python3"
  },
  "language_info": {
   "codemirror_mode": {
    "name": "ipython",
    "version": 3
   },
   "file_extension": ".py",
   "mimetype": "text/x-python",
   "name": "python",
   "nbconvert_exporter": "python",
   "pygments_lexer": "ipython3",
   "version": "3.7.1"
  }
 },
 "nbformat": 4,
 "nbformat_minor": 2
}
