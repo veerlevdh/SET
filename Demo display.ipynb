{
 "cells": [
  {
   "cell_type": "markdown",
   "metadata": {},
   "source": [
    "Hier staan alle benodigde imports. De class voor de kaarten staat in een los bestand zodat het niet in de wegstaat."
   ]
  },
  {
   "cell_type": "code",
   "execution_count": 1,
   "metadata": {},
   "outputs": [
    {
     "name": "stdout",
     "output_type": "stream",
     "text": [
      "pygame 1.9.6\n",
      "Hello from the pygame community. https://www.pygame.org/contribute.html\n"
     ]
    }
   ],
   "source": [
    "\n",
    "import Dek_functies as dek\n",
    "import Kaart_class as cards\n",
    "import pygame\n",
    "import random\n",
    "import Display_functies as disp"
   ]
  },
  {
   "cell_type": "markdown",
   "metadata": {},
   "source": [
    "Kaarten  maak je op de volgende manier aan."
   ]
  },
  {
   "cell_type": "code",
   "execution_count": 2,
   "metadata": {},
   "outputs": [],
   "source": [
    "card = cards.kaart(0,0,1,1)\n",
    "b = cards.kaart(0,1,1,1)\n",
    "c = cards.kaart(0,-1,1,1)\n",
    "d = cards.kaart(1,1,1,1)"
   ]
  },
  {
   "cell_type": "code",
   "execution_count": 3,
   "metadata": {},
   "outputs": [
    {
     "name": "stdout",
     "output_type": "stream",
     "text": [
      "[[0, 1, 8], [0, 5, 10], [2, 4, 8]]\n"
     ]
    }
   ],
   "source": [
    "alle_kaarten = dek.maak_dek()\n",
    "gedeelde_kaarten = dek.eerste_keer_delen(alle_kaarten)\n",
    "gevonden_sets = dek.alle_sets_vinden(gedeelde_kaarten)\n",
    "print(gevonden_sets)\n",
    "\n",
    "k1= gedeelde_kaarten[0]\n",
    "k2= gedeelde_kaarten[1]\n",
    "k3= gedeelde_kaarten[2]\n",
    "k4= gedeelde_kaarten[3]\n",
    "k5= gedeelde_kaarten[4]\n",
    "k6= gedeelde_kaarten[5]\n",
    "k7= gedeelde_kaarten[6]\n",
    "k8= gedeelde_kaarten[7]\n",
    "k9= gedeelde_kaarten[8]\n",
    "k10=gedeelde_kaarten[9]\n",
    "k11=gedeelde_kaarten[10]\n",
    "k12=gedeelde_kaarten[11]\n"
   ]
  },
  {
   "cell_type": "code",
   "execution_count": 4,
   "metadata": {},
   "outputs": [
    {
     "data": {
      "text/plain": [
       "False"
      ]
     },
     "execution_count": 4,
     "metadata": {},
     "output_type": "execute_result"
    }
   ],
   "source": [
    "dek.set_aanwijzen(gedeelde_kaarten,0,1,6)"
   ]
  },
  {
   "cell_type": "markdown",
   "metadata": {},
   "source": [
    "### De volgende functie bepaalt de locaties van de 12 kaarten"
   ]
  },
  {
   "cell_type": "markdown",
   "metadata": {},
   "source": [
    "### Vervolgens laten we de twaalf kaarten afbeelden op het scherm"
   ]
  },
  {
   "cell_type": "code",
   "execution_count": 5,
   "metadata": {},
   "outputs": [
    {
     "name": "stdout",
     "output_type": "stream",
     "text": [
      "[4]\n",
      "[4, 7]\n",
      "[4, 7, 10]\n",
      "Leipe kut mogool, das geen set :(\n",
      "[10]\n",
      "[10, 7]\n",
      "[10, 7, 4]\n",
      "Leipe kut mogool, das geen set :(\n",
      "[4]\n",
      "[4, 7]\n",
      "[4, 7, 10]\n",
      "Leipe kut mogool, das geen set :(\n"
     ]
    },
    {
     "ename": "error",
     "evalue": "display Surface quit",
     "output_type": "error",
     "traceback": [
      "\u001b[1;31m---------------------------------------------------------------------------\u001b[0m",
      "\u001b[1;31merror\u001b[0m                                     Traceback (most recent call last)",
      "\u001b[1;32m<ipython-input-5-4c4a1887aae7>\u001b[0m in \u001b[0;36m<module>\u001b[1;34m\u001b[0m\n\u001b[0;32m     25\u001b[0m \u001b[1;32mwhile\u001b[0m \u001b[1;32mTrue\u001b[0m \u001b[1;33m:\u001b[0m\u001b[1;33m\u001b[0m\u001b[1;33m\u001b[0m\u001b[0m\n\u001b[0;32m     26\u001b[0m \u001b[1;31m# vul je scherm zwart\u001b[0m\u001b[1;33m\u001b[0m\u001b[1;33m\u001b[0m\u001b[1;33m\u001b[0m\u001b[0m\n\u001b[1;32m---> 27\u001b[1;33m     \u001b[0mdisplay_surface\u001b[0m\u001b[1;33m.\u001b[0m\u001b[0mfill\u001b[0m\u001b[1;33m(\u001b[0m\u001b[0mzwart\u001b[0m\u001b[1;33m)\u001b[0m\u001b[1;33m\u001b[0m\u001b[1;33m\u001b[0m\u001b[0m\n\u001b[0m\u001b[0;32m     28\u001b[0m     \u001b[0mk1\u001b[0m\u001b[1;33m=\u001b[0m \u001b[0mgedeelde_kaarten\u001b[0m\u001b[1;33m[\u001b[0m\u001b[1;36m0\u001b[0m\u001b[1;33m]\u001b[0m\u001b[1;33m\u001b[0m\u001b[1;33m\u001b[0m\u001b[0m\n\u001b[0;32m     29\u001b[0m     \u001b[0mk2\u001b[0m\u001b[1;33m=\u001b[0m \u001b[0mgedeelde_kaarten\u001b[0m\u001b[1;33m[\u001b[0m\u001b[1;36m1\u001b[0m\u001b[1;33m]\u001b[0m\u001b[1;33m\u001b[0m\u001b[1;33m\u001b[0m\u001b[0m\n",
      "\u001b[1;31merror\u001b[0m: display Surface quit"
     ]
    }
   ],
   "source": [
    "\n",
    "pygame.init() \n",
    "  \n",
    "# definieer zwart\n",
    "zwart = (0,0,0) \n",
    "  \n",
    "# bepaal de breedte (X) en hoogte (Y) van je scherm \n",
    "X = 1000\n",
    "Y = 600\n",
    "pleky, plekx = disp.locatie_kaarten(X,Y)\n",
    "  \n",
    "# maak een scherm van grootte X bij Y \n",
    "display_surface = pygame.display.set_mode((X, Y )) \n",
    "\n",
    "  \n",
    "# geef je scherm een naam\n",
    "pygame.display.set_caption('SET') \n",
    "gekozen_kaarten = []\n",
    "punten = []\n",
    "black=(0,0,0)\n",
    "i = 0\n",
    "j=0\n",
    "\n",
    "\n",
    "while True : \n",
    "# vul je scherm zwart\n",
    "    display_surface.fill(zwart) \n",
    "    k1= gedeelde_kaarten[0]\n",
    "    k2= gedeelde_kaarten[1]\n",
    "    k3= gedeelde_kaarten[2]\n",
    "    k4= gedeelde_kaarten[3]\n",
    "    k5= gedeelde_kaarten[4]\n",
    "    k6= gedeelde_kaarten[5]\n",
    "    k7= gedeelde_kaarten[6]\n",
    "    k8= gedeelde_kaarten[7]\n",
    "    k9= gedeelde_kaarten[8]\n",
    "    k10=gedeelde_kaarten[9]\n",
    "    k11=gedeelde_kaarten[10]\n",
    "    k12=gedeelde_kaarten[11]\n",
    "# plak de afbeeldingen van de twaalf kaarten op de locaties die we eerder met de functie locatie_kaarten hebben bepaald\n",
    "    display_surface.blit(k1.image, (plekx[0], pleky[0]))\n",
    "    display_surface.blit(k2.image, (plekx[1],pleky[0]))\n",
    "    display_surface.blit(k3.image, (plekx[2],pleky[0]))\n",
    "    display_surface.blit(k4.image, (plekx[0],pleky[1]))\n",
    "    display_surface.blit(k5.image, (plekx[1],pleky[1]))\n",
    "    display_surface.blit(k6.image, (plekx[2],pleky[1]))\n",
    "    display_surface.blit(k7.image, (plekx[0],pleky[2]))\n",
    "    display_surface.blit(k8.image, (plekx[1],pleky[2]))\n",
    "    display_surface.blit(k9.image, (plekx[2],pleky[2]))\n",
    "    display_surface.blit(k10.image, (plekx[0],pleky[3]))\n",
    "    display_surface.blit(k11.image, (plekx[1],pleky[3]))\n",
    "    display_surface.blit(k12.image, (plekx[2],pleky[3]))\n",
    "#puntentelling    \n",
    "    myFont = pygame.font.SysFont(\"Impact\", 24)\n",
    "    diceDisplay = myFont.render('Aantal punten:'+str(sum(punten)), 1, (255,0,0))\n",
    "    display_surface.blit(diceDisplay,(50,15))\n",
    "    \n",
    "    pygame.display.update()\n",
    "    # Haal alle events op\n",
    "    for event in pygame.event.get() : \n",
    "        if event.type == pygame.MOUSEBUTTONUP: #Als er op muis is geklikt\n",
    "            positie_muis = pygame.mouse.get_pos() #haal (x,y) van muis op       \n",
    "            if disp.waar_geklikt(positie_muis, plekx, pleky) is \"zwart\": #als niet op een kaart geklikt\n",
    "                print(\"zwart\")\n",
    "            if disp.waar_geklikt(positie_muis, plekx, pleky) is not \"zwart\": #als op een kaart geklikt\n",
    "                gekozen_kaarten.append(disp.waar_geklikt(positie_muis, plekx, pleky))  \n",
    "                i += 1\n",
    "                print(gekozen_kaarten)\n",
    "            if i == 3: #zodra er drie kaarten zijn gevonden\n",
    "                gekozen_kaarten.sort()\n",
    "                klopt = dek.set_aanwijzen(gedeelde_kaarten,gekozen_kaarten[0],gekozen_kaarten[1],gekozen_kaarten[2])\n",
    "                if klopt == True:\n",
    "                    print(\"dat is een set, gefeliciflapstaart!!!\")\n",
    "                    dek.set_vervangen(gedeelde_kaarten, gekozen_kaarten[0],gekozen_kaarten[1],gekozen_kaarten[2], alle_kaarten)\n",
    "                    punten.append(1)\n",
    "                    j=0\n",
    "                else:\n",
    "                    print(\"Leipe kut mogool, das geen set :(\")\n",
    "                    punten.append(-1)\n",
    "                    j +=1\n",
    "                i = 0\n",
    "                gekozen_kaarten = []\n",
    "            if j == 3:\n",
    "                dek.geen_set_gedeeld(gedeelde_kaarten, alle_kaarten)\n",
    "                \n",
    "        \n",
    "        # if event object type is QUIT \n",
    "        # then quitting the pygame \n",
    "        # and program both. \n",
    "        if event.type == pygame.QUIT : \n",
    "  \n",
    "            # deactivates the pygame library \n",
    "            pygame.quit() \n",
    "  \n",
    "            # quit the program. \n",
    "            quit() \n",
    "  \n",
    "        # drukt alles af op het scherm  \n"
   ]
  },
  {
   "cell_type": "code",
   "execution_count": null,
   "metadata": {},
   "outputs": [],
   "source": [
    "X = 1000\n",
    "Y = 600\n",
    "pleky, plekx = disp.locatie_kaarten(X,Y)\n",
    "\n",
    "disp.tussen(25,plekx,200)"
   ]
  },
  {
   "cell_type": "code",
   "execution_count": null,
   "metadata": {},
   "outputs": [],
   "source": []
  }
 ],
 "metadata": {
  "kernelspec": {
   "display_name": "Python 3",
   "language": "python",
   "name": "python3"
  },
  "language_info": {
   "codemirror_mode": {
    "name": "ipython",
    "version": 3
   },
   "file_extension": ".py",
   "mimetype": "text/x-python",
   "name": "python",
   "nbconvert_exporter": "python",
   "pygments_lexer": "ipython3",
   "version": "3.7.1"
  }
 },
 "nbformat": 4,
 "nbformat_minor": 2
}
