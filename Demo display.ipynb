{
 "cells": [
  {
   "cell_type": "code",
   "execution_count": 1,
   "metadata": {},
   "outputs": [
    {
     "name": "stdout",
     "output_type": "stream",
     "text": [
      "pygame 1.9.6\n",
      "Hello from the pygame community. https://www.pygame.org/contribute.html\n"
     ]
    }
   ],
   "source": [
    "import Dek_functies as dek\n",
    "import Kaart_class as cards\n",
    "import pygame, time, sys\n",
    "import random\n",
    "import Display_functies as disp"
   ]
  },
  {
   "cell_type": "code",
   "execution_count": 2,
   "metadata": {},
   "outputs": [
    {
     "name": "stdout",
     "output_type": "stream",
     "text": [
      "[[1, 5, 8], [2, 4, 8], [2, 7, 9], [3, 5, 7], [3, 6, 10], [3, 9, 11]]\n"
     ]
    }
   ],
   "source": [
    "alle_kaarten = dek.maak_dek()\n",
    "gedeelde_kaarten = dek.eerste_keer_delen(alle_kaarten)\n",
    "gevonden_sets = dek.alle_sets_vinden(gedeelde_kaarten)\n",
    "print(gevonden_sets)\n"
   ]
  },
  {
   "cell_type": "code",
   "execution_count": null,
   "metadata": {},
   "outputs": [
    {
     "name": "stdout",
     "output_type": "stream",
     "text": [
      "[11]\n",
      "[11, 3]\n",
      "[11, 3, 3]\n",
      "[10]\n",
      "[10, 9]\n",
      "[10, 9, 3]\n"
     ]
    }
   ],
   "source": [
    "pygame.init() \n",
    "screen = pygame.display.set_mode((128, 128))\n",
    "clock = pygame.time.Clock()\n",
    "\n",
    "tijd_over = 31\n",
    "        \n",
    "# definieer zwart\n",
    "zwart = (0,0,0) \n",
    "  \n",
    "# bepaal de breedte (X) en hoogte (Y) van je scherm \n",
    "X = 1000\n",
    "Y = 600\n",
    "pleky, plekx = disp.locatie_kaarten(X,Y)\n",
    "  \n",
    "# maak een scherm van grootte X bij Y \n",
    "display_surface = pygame.display.set_mode((X, Y )) \n",
    "\n",
    "  \n",
    "# geef je scherm een naam\n",
    "pygame.display.set_caption('SET') \n",
    "gekozen_kaarten = []\n",
    "punten = []\n",
    "black = (0,0,0)\n",
    "rood=(255,0,0)\n",
    "i = 0\n",
    "\n",
    "\n",
    "while True : \n",
    "# vul je scherm zwart\n",
    "    display_surface.fill(zwart) \n",
    "# plak de afbeeldingen van de twaalf kaarten op de locaties die we eerder met de functie locatie_kaarten hebben bepaald\n",
    "    nummer = 0\n",
    "    for y in range(0,4):\n",
    "        for x in range(0,3):\n",
    "            display_surface.blit(gedeelde_kaarten[nummer].image, (plekx[x], pleky[y]))\n",
    "            nummer+=1\n",
    "    \n",
    "#puntentelling    \n",
    "    myFont = pygame.font.SysFont(\"Impact\", 24)\n",
    "    diceDisplay = myFont.render('Aantal punten: '+str(sum(punten)), 1, (255,0,0))\n",
    "    display_surface.blit(diceDisplay,(50,15))\n",
    "    tijd_over -= 1\n",
    "    if tijd_over>0:\n",
    "        text = myFont.render((\"Tijd: \" + str(tijd_over)  +\" seconden\"), 1, (255,0,0))\n",
    "        display_surface.blit(text, (plekx[2],15))\n",
    "        pygame.display.flip()\n",
    "        time.sleep(1)\n",
    "    else:\n",
    "        text = myFont.render(\"Te laat!\", 1, (255,0,0))\n",
    "        display_surface.blit(text, (plekx[2], 15))\n",
    "        dek.geen_set_gedeeld(gedeelde_kaarten, alle_kaarten)\n",
    "        tijd_over=31\n",
    "        punten.append(-1)\n",
    "        gekozen_kaarten = []\n",
    "        pygame.display.flip()\n",
    "\n",
    "    \n",
    "    pygame.display.update()\n",
    "\n",
    "    # Haal alle events op\n",
    "    for event in pygame.event.get() : \n",
    "            \n",
    "        if event.type == pygame.MOUSEBUTTONUP: #Als er op muis is geklikt\n",
    "            positie_muis = pygame.mouse.get_pos() #haal (x,y) van muis op       \n",
    "            if disp.waar_geklikt(positie_muis, plekx, pleky) is \"zwart\": #als niet op een kaart geklikt\n",
    "                print(\"zwart\")\n",
    "            if disp.waar_geklikt(positie_muis, plekx, pleky) is not \"zwart\": #als op een kaart geklikt\n",
    "                gekozen_kaarten.append(disp.waar_geklikt(positie_muis, plekx, pleky))  \n",
    "                print(gekozen_kaarten)\n",
    "                i += 1\n",
    "            if i == 3: #zodra er drie kaarten zijn gevonden\n",
    "                gekozen_kaarten.sort()\n",
    "                klopt = dek.set_aanwijzen(gedeelde_kaarten,gekozen_kaarten[0],gekozen_kaarten[1],gekozen_kaarten[2])\n",
    "                if klopt == True:\n",
    "                    tijd_over = 31\n",
    "                    dek.set_vervangen(gedeelde_kaarten, gekozen_kaarten[0],gekozen_kaarten[1],gekozen_kaarten[2], alle_kaarten)\n",
    "                    punten.append(1)\n",
    "                else:\n",
    "                    punten.append(-1)\n",
    "                i = 0\n",
    "                gekozen_kaarten = []\n",
    "                \n",
    "        \n",
    "        # if event object type is QUIT \n",
    "        # then quitting the pygame \n",
    "        # and program both. \n",
    "        if event.type == pygame.QUIT : \n",
    "  \n",
    "            # deactivates the pygame library \n",
    "            pygame.quit() \n",
    "  \n",
    "            # quit the program. \n",
    "            quit() \n",
    "  \n",
    "        # drukt alles af op het scherm  \n"
   ]
  },
  {
   "cell_type": "code",
   "execution_count": null,
   "metadata": {},
   "outputs": [],
   "source": []
  }
 ],
 "metadata": {
  "kernelspec": {
   "display_name": "Python 3",
   "language": "python",
   "name": "python3"
  },
  "language_info": {
   "codemirror_mode": {
    "name": "ipython",
    "version": 3
   },
   "file_extension": ".py",
   "mimetype": "text/x-python",
   "name": "python",
   "nbconvert_exporter": "python",
   "pygments_lexer": "ipython3",
   "version": "3.7.1"
  }
 },
 "nbformat": 4,
 "nbformat_minor": 2
}
