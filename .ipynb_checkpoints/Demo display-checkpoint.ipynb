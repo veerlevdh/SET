{
 "cells": [
  {
   "cell_type": "code",
   "execution_count": 2,
   "metadata": {},
   "outputs": [
    {
     "name": "stdout",
     "output_type": "stream",
     "text": [
      "pygame 1.9.6\n",
      "Hello from the pygame community. https://www.pygame.org/contribute.html\n"
     ]
    }
   ],
   "source": [
    "import Dek_functies as dek\n",
    "import Kaart_class as cards\n",
    "import Display_functies as disp\n",
    "import time, sys, random, pygame\n",
    "import threading\n",
    "import datetime\n"
   ]
  },
  {
   "cell_type": "code",
   "execution_count": null,
   "metadata": {},
   "outputs": [],
   "source": [
    "def "
   ]
  },
  {
   "cell_type": "markdown",
   "metadata": {},
   "source": [
    "# Setup voor het spel\n"
   ]
  },
  {
   "cell_type": "code",
   "execution_count": 2,
   "metadata": {},
   "outputs": [],
   "source": [
    "alle_kaarten = dek.maak_dek()\n",
    "gedeelde_kaarten = dek.eerste_keer_delen(alle_kaarten)\n",
    "gevonden_sets = dek.alle_sets_vinden(gedeelde_kaarten)\n",
    "tijd_over = 31\n",
    "zwart = (0,0,0) \n",
    "rood=(255,0,0)  \n",
    "# bepaal de breedte (X) en hoogte (Y) van je scherm \n",
    "X = 1000\n",
    "Y = 600\n",
    "pleky, plekx = disp.locatie_kaarten(X,Y)\n",
    "\n",
    "gekozen_kaarten = []\n",
    "punten = 0\n",
    "\n",
    "change = True\n",
    "clock_change = True\n"
   ]
  },
  {
   "cell_type": "markdown",
   "metadata": {},
   "source": [
    "### functie om spel te tekenen. Tekenen niet te vaak doen want langzaam en 60 keer per seconden\n",
    "\n"
   ]
  },
  {
   "cell_type": "code",
   "execution_count": null,
   "metadata": {},
   "outputs": [],
   "source": []
  },
  {
   "cell_type": "code",
   "execution_count": 3,
   "metadata": {},
   "outputs": [],
   "source": [
    "def teken_spel(clock_change, text):\n",
    "    display_surface.fill(zwart)\n",
    "    if clock_change is True:\n",
    "        display_surface.blit(text, (plekx[2],15))\n",
    "    nummer = 0\n",
    "    for y in range(0,4):\n",
    "        for x in range(0,3):\n",
    "            display_surface.blit(gedeelde_kaarten[nummer].image, (plekx[x], pleky[y]))\n",
    "            nummer+=1\n",
    "    display_surface.blit(diceDisplay,(50,15))\n",
    "    pygame.display.update()\n",
    "    "
   ]
  },
  {
   "cell_type": "code",
   "execution_count": 4,
   "metadata": {},
   "outputs": [
    {
     "name": "stdout",
     "output_type": "stream",
     "text": [
      "[2]\n",
      "[2, 11]\n",
      "[2, 11, 4]\n"
     ]
    },
    {
     "ename": "error",
     "evalue": "display Surface quit",
     "output_type": "error",
     "traceback": [
      "\u001b[1;31m---------------------------------------------------------------------------\u001b[0m",
      "\u001b[1;31merror\u001b[0m                                     Traceback (most recent call last)",
      "\u001b[1;32m<ipython-input-4-1043d3ae484e>\u001b[0m in \u001b[0;36m<module>\u001b[1;34m\u001b[0m\n\u001b[0;32m     19\u001b[0m \u001b[1;31m# Druk alleen nieuwe dingen af als er verandering is.\u001b[0m\u001b[1;33m\u001b[0m\u001b[1;33m\u001b[0m\u001b[1;33m\u001b[0m\u001b[0m\n\u001b[0;32m     20\u001b[0m     \u001b[1;32mif\u001b[0m \u001b[0mchange\u001b[0m \u001b[1;32mis\u001b[0m \u001b[1;32mTrue\u001b[0m\u001b[1;33m:\u001b[0m\u001b[1;33m\u001b[0m\u001b[1;33m\u001b[0m\u001b[0m\n\u001b[1;32m---> 21\u001b[1;33m         \u001b[0mteken_spel\u001b[0m\u001b[1;33m(\u001b[0m\u001b[0mclock_change\u001b[0m\u001b[1;33m,\u001b[0m \u001b[0mtext\u001b[0m\u001b[1;33m)\u001b[0m\u001b[1;33m\u001b[0m\u001b[1;33m\u001b[0m\u001b[0m\n\u001b[0m\u001b[0;32m     22\u001b[0m         \u001b[0mclock_change\u001b[0m \u001b[1;33m=\u001b[0m \u001b[1;32mFalse\u001b[0m\u001b[1;33m\u001b[0m\u001b[1;33m\u001b[0m\u001b[0m\n\u001b[0;32m     23\u001b[0m     \u001b[0mchange\u001b[0m \u001b[1;33m=\u001b[0m \u001b[1;32mFalse\u001b[0m\u001b[1;33m\u001b[0m\u001b[1;33m\u001b[0m\u001b[0m\n",
      "\u001b[1;32m<ipython-input-3-6b1646d4cbdc>\u001b[0m in \u001b[0;36mteken_spel\u001b[1;34m(clock_change, text)\u001b[0m\n\u001b[0;32m      1\u001b[0m \u001b[1;32mdef\u001b[0m \u001b[0mteken_spel\u001b[0m\u001b[1;33m(\u001b[0m\u001b[0mclock_change\u001b[0m\u001b[1;33m,\u001b[0m \u001b[0mtext\u001b[0m\u001b[1;33m)\u001b[0m\u001b[1;33m:\u001b[0m\u001b[1;33m\u001b[0m\u001b[1;33m\u001b[0m\u001b[0m\n\u001b[1;32m----> 2\u001b[1;33m     \u001b[0mdisplay_surface\u001b[0m\u001b[1;33m.\u001b[0m\u001b[0mfill\u001b[0m\u001b[1;33m(\u001b[0m\u001b[0mzwart\u001b[0m\u001b[1;33m)\u001b[0m\u001b[1;33m\u001b[0m\u001b[1;33m\u001b[0m\u001b[0m\n\u001b[0m\u001b[0;32m      3\u001b[0m     \u001b[1;32mif\u001b[0m \u001b[0mclock_change\u001b[0m \u001b[1;32mis\u001b[0m \u001b[1;32mTrue\u001b[0m\u001b[1;33m:\u001b[0m\u001b[1;33m\u001b[0m\u001b[1;33m\u001b[0m\u001b[0m\n\u001b[0;32m      4\u001b[0m         \u001b[0mdisplay_surface\u001b[0m\u001b[1;33m.\u001b[0m\u001b[0mblit\u001b[0m\u001b[1;33m(\u001b[0m\u001b[0mtext\u001b[0m\u001b[1;33m,\u001b[0m \u001b[1;33m(\u001b[0m\u001b[0mplekx\u001b[0m\u001b[1;33m[\u001b[0m\u001b[1;36m2\u001b[0m\u001b[1;33m]\u001b[0m\u001b[1;33m,\u001b[0m\u001b[1;36m15\u001b[0m\u001b[1;33m)\u001b[0m\u001b[1;33m)\u001b[0m\u001b[1;33m\u001b[0m\u001b[1;33m\u001b[0m\u001b[0m\n\u001b[0;32m      5\u001b[0m     \u001b[0mnummer\u001b[0m \u001b[1;33m=\u001b[0m \u001b[1;36m0\u001b[0m\u001b[1;33m\u001b[0m\u001b[1;33m\u001b[0m\u001b[0m\n",
      "\u001b[1;31merror\u001b[0m: display Surface quit"
     ]
    }
   ],
   "source": [
    "pygame.init() \n",
    "\n",
    "currentTime = datetime.datetime.now()\n",
    "myFont = pygame.font.SysFont(\"Impact\", 24)\n",
    "text = myFont.render((\"Tijd: \" + str(tijd_over)  +\" seconden\"), 1, (255,0,0))\n",
    "diceDisplay = myFont.render('Aantal punten: '+str(punten), 1, (255,0,0))\n",
    "\n",
    "clock = pygame.time.Clock()\n",
    "clock.tick(60)\n",
    "\n",
    "# maak een scherm van grootte X bij Y en vul met zwart\n",
    "pygame.display.set_caption('SET')\n",
    "display_surface = pygame.display.set_mode((X, Y )) \n",
    "display_surface.fill(zwart)\n",
    "  \n",
    "# geef je scherm een naam \n",
    "\n",
    "\n",
    "while True :  \n",
    "currentTime \n",
    "# Druk alleen nieuwe dingen af als er verandering is.\n",
    "    if change is True:\n",
    "        teken_spel(clock_change, text)\n",
    "        clock_change = False\n",
    "    change = False\n",
    "    \n",
    "\n",
    "    \n",
    "#puntentelling en timer \n",
    "    diceDisplay = myFont.render('Aantal punten: '+str(punten), 1, (255,0,0))\n",
    "    tijd_over = \n",
    "    if tijd_over > 0:\n",
    "        text = myFont.render((\"Tijd: \" + str(tijd_over)  +\" seconden\"), 1, (255,0,0))\n",
    "        display_surface.blit(text, (plekx[2],15))\n",
    "        clock_change = True\n",
    "        change = True\n",
    "        time.sleep(0.1)\n",
    "    else:\n",
    "        text = myFont.render(\"Te laat!\", 1, (255,0,0))\n",
    "        display_surface.blit(text, (plekx[2], 15))\n",
    "        dek.set_vervangen(gedeelde_kaarten, alle_kaarten)\n",
    "        tijd_over=31\n",
    "        punten -= 1\n",
    "        gevonden_sets = dek.alle_sets_vinden(alle_kaarten)\n",
    "        gekozen_kaarten = []\n",
    "        clock_change = True\n",
    "        change = True\n",
    "    # Haal alle events op\n",
    "    for event in pygame.event.get() : \n",
    "        positie_muis = pygame.mouse.get_pos()    \n",
    "        if event.type == pygame.MOUSEBUTTONDOWN: #Als er op muis is geklikt\n",
    "            #haal (x,y) van muis op   \n",
    "            klik_locatie = disp.waar_geklikt(positie_muis, plekx, pleky)\n",
    "            if klik_locatie is not \"zwart\": #als op een kaart geklikt\n",
    "                if klik_locatie not in gekozen_kaarten:\n",
    "                    gekozen_kaarten.append(klik_locatie)  \n",
    "                \n",
    "                print(gekozen_kaarten)\n",
    "                klik_locatie = 0\n",
    "\n",
    "            #zodra er drie kaarten zijn gevonden\n",
    "            if len(gekozen_kaarten) == 3:\n",
    "                gekozen_kaarten.sort()\n",
    "                klopt = dek.set_aanwijzen(gevonden_sets, gekozen_kaarten)\n",
    "                if klopt == True:\n",
    "                    tijd_over = 31\n",
    "                    dek.set_vervangen(gedeelde_kaarten, alle_kaarten, gekozen_kaarten)\n",
    "                    punten += 1\n",
    "                    gevonden_sets = dek.alle_sets_vinden(alle_kaarten)\n",
    "                    change = True\n",
    "                else:\n",
    "                    punten -= 1\n",
    "                    change = True\n",
    "                i = 0\n",
    "                gekozen_kaarten = []\n",
    "                klik_locatie = 0\n",
    "        # if event object type is QUIT \n",
    "        # then quitting the pygame \n",
    "        # and program both. \n",
    "        if event.type == pygame.QUIT : \n",
    "\n",
    "            pygame.quit() \n",
    "  \n",
    "            quit() \n",
    "  \n",
    "        # drukt alles af op het scherm  \n"
   ]
  },
  {
   "cell_type": "code",
   "execution_count": null,
   "metadata": {},
   "outputs": [],
   "source": [
    "\n",
    "\n",
    "\n",
    "\n",
    "\n",
    "\n",
    "\n",
    "\n",
    "\n",
    "\n",
    "\n",
    "\n",
    "\n",
    "\n",
    "\n",
    "\n",
    "\n",
    "\n",
    "\n",
    "\n",
    "\n",
    "\n",
    "\n",
    "\n",
    "\n",
    "\n",
    "\n",
    "\n",
    "\n"
   ]
  },
  {
   "cell_type": "code",
   "execution_count": null,
   "metadata": {},
   "outputs": [],
   "source": []
  }
 ],
 "metadata": {
  "kernelspec": {
   "display_name": "Python 3",
   "language": "python",
   "name": "python3"
  },
  "language_info": {
   "codemirror_mode": {
    "name": "ipython",
    "version": 3
   },
   "file_extension": ".py",
   "mimetype": "text/x-python",
   "name": "python",
   "nbconvert_exporter": "python",
   "pygments_lexer": "ipython3",
   "version": "3.7.1"
  }
 },
 "nbformat": 4,
 "nbformat_minor": 2
}
