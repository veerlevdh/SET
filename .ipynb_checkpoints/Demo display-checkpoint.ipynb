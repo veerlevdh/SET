{
 "cells": [
  {
   "cell_type": "code",
   "execution_count": 2,
   "metadata": {},
   "outputs": [
    {
     "name": "stdout",
     "output_type": "stream",
     "text": [
      "pygame 1.9.6\n",
      "Hello from the pygame community. https://www.pygame.org/contribute.html\n"
     ]
    },
    {
     "ename": "SyntaxError",
     "evalue": "invalid syntax (Display_functies.py, line 39)",
     "output_type": "error",
     "traceback": [
      "Traceback \u001b[1;36m(most recent call last)\u001b[0m:\n",
      "  File \u001b[0;32m\"C:\\ProgramData\\Anaconda3\\lib\\site-packages\\IPython\\core\\interactiveshell.py\"\u001b[0m, line \u001b[0;32m3267\u001b[0m, in \u001b[0;35mrun_code\u001b[0m\n    exec(code_obj, self.user_global_ns, self.user_ns)\n",
      "\u001b[1;36m  File \u001b[1;32m\"<ipython-input-2-9bcba39d535e>\"\u001b[1;36m, line \u001b[1;32m5\u001b[1;36m, in \u001b[1;35m<module>\u001b[1;36m\u001b[0m\n\u001b[1;33m    import Display_functies as disp\u001b[0m\n",
      "\u001b[1;36m  File \u001b[1;32m\"C:\\Users\\smakb\\Desktop\\Set_spel\\SET2\\Display_functies.py\"\u001b[1;36m, line \u001b[1;32m39\u001b[0m\n\u001b[1;33m    def print_gedeelde_kaarten(gedeelde_kaarten, plekx, pleky)\u001b[0m\n\u001b[1;37m                                                              ^\u001b[0m\n\u001b[1;31mSyntaxError\u001b[0m\u001b[1;31m:\u001b[0m invalid syntax\n"
     ]
    }
   ],
   "source": [
    "import Dek_functies as dek\n",
    "import Kaart_class as cards\n",
    "import pygame, time, sys\n",
    "import random\n",
    "import Display_functies as disp"
   ]
  },
  {
   "cell_type": "code",
   "execution_count": null,
   "metadata": {},
   "outputs": [],
   "source": []
  },
  {
   "cell_type": "markdown",
   "metadata": {},
   "source": [
    "# Setup voor het spel\n"
   ]
  },
  {
   "cell_type": "code",
   "execution_count": 2,
   "metadata": {},
   "outputs": [],
   "source": [
    "alle_kaarten = dek.maak_dek()\n",
    "gedeelde_kaarten = dek.eerste_keer_delen(alle_kaarten)\n",
    "gevonden_sets = dek.alle_sets_vinden(gedeelde_kaarten)\n",
    "tijd_over = 31\n",
    "zwart = (0,0,0) \n",
    "rood=(255,0,0)  \n",
    "# bepaal de breedte (X) en hoogte (Y) van je scherm \n",
    "X = 1000\n",
    "Y = 600\n",
    "pleky, plekx = disp.locatie_kaarten(X,Y)\n",
    "\n",
    "gekozen_kaarten = []\n",
    "punten = []\n",
    "\n",
    "i = 0"
   ]
  },
  {
   "cell_type": "code",
   "execution_count": 1,
   "metadata": {},
   "outputs": [
    {
     "ename": "IndentationError",
     "evalue": "unexpected indent (<ipython-input-1-0134df7c6ab8>, line 20)",
     "output_type": "error",
     "traceback": [
      "\u001b[1;36m  File \u001b[1;32m\"<ipython-input-1-0134df7c6ab8>\"\u001b[1;36m, line \u001b[1;32m20\u001b[0m\n\u001b[1;33m    myFont = pygame.font.SysFont(\"Impact\", 24)\u001b[0m\n\u001b[1;37m    ^\u001b[0m\n\u001b[1;31mIndentationError\u001b[0m\u001b[1;31m:\u001b[0m unexpected indent\n"
     ]
    }
   ],
   "source": [
    "pygame.init() \n",
    "\n",
    "clock = pygame.time.Clock()\n",
    "  \n",
    "# maak een scherm van grootte X bij Y \n",
    "display_surface = pygame.display.set_mode((X, Y )) \n",
    "\n",
    "  \n",
    "# geef je scherm een naam\n",
    "pygame.display.set_caption('SET') \n",
    "\n",
    "while True : \n",
    "# vul je scherm zwart\n",
    "    display_surface.fill(zwart) \n",
    "\n",
    "# plak de afbeeldingen van de twaalf kaarten op de locaties die we eerder met de functie locatie_kaarten hebben bepaald\n",
    "    deks.print_gedeelde_kaarten(gedeelde_kaarten, plekx, pleky)\n",
    "    \n",
    "#puntentelling    \n",
    "    myFont = pygame.font.SysFont(\"Impact\", 24)\n",
    "    diceDisplay = myFont.render('Aantal punten: '+str(sum(punten)), 1, (255,0,0))\n",
    "    display_surface.blit(diceDisplay,(50,15))\n",
    "    tijd_over -= 1\n",
    "    if tijd_over>0:\n",
    "        text = myFont.render((\"Tijd: \" + str(tijd_over)  +\" seconden\"), 1, (255,0,0))\n",
    "        display_surface.blit(text, (plekx[2],15))\n",
    "        pygame.display.flip()\n",
    "        time.sleep(1)\n",
    "    else:\n",
    "        text = myFont.render(\"Te laat!\", 1, (255,0,0))\n",
    "        display_surface.blit(text, (plekx[2], 15))\n",
    "        dek.geen_set_gedeeld(gedeelde_kaarten, alle_kaarten)\n",
    "        tijd_over=31\n",
    "        punten.append(-1)\n",
    "        gekozen_kaarten = []\n",
    "        pygame.display.flip()\n",
    "\n",
    "    pygame.display.update()\n",
    "\n",
    "    # Haal alle events op\n",
    "    for event in pygame.event.get() : \n",
    "            \n",
    "        if event.type == pygame.MOUSEBUTTONUP: #Als er op muis is geklikt\n",
    "            positie_muis = pygame.mouse.get_pos() #haal (x,y) van muis op   \n",
    "            print(positie_muis)\n",
    "            klik_locatie = disp.waar_geklikt(positie_muis, plekx, pleky)\n",
    "            if klik_locatie is not \"zwart\": #als op een kaart geklikt\n",
    "                gekozen_kaarten.append(klik_locatie)  \n",
    "                print(gekozen_kaarten)\n",
    "                i += 1\n",
    "            if i == 3: #zodra er drie kaarten zijn gevonden\n",
    "                gekozen_kaarten.sort()\n",
    "                klopt = dek.set_aanwijzen(gedeelde_kaarten,gekozen_kaarten[0],gekozen_kaarten[1],gekozen_kaarten[2])\n",
    "                if klopt == True:\n",
    "                    tijd_over = 31\n",
    "                    dek.set_vervangen(gedeelde_kaarten, gekozen_kaarten[0],gekozen_kaarten[1],gekozen_kaarten[2], alle_kaarten)\n",
    "                    punten.append(1)\n",
    "                else:\n",
    "                    punten.append(-1)\n",
    "                i = 0\n",
    "                gekozen_kaarten = []\n",
    "                \n",
    "        \n",
    "        # if event object type is QUIT \n",
    "        # then quitting the pygame \n",
    "        # and program both. \n",
    "        if event.type == pygame.QUIT : \n",
    "\n",
    "            pygame.quit() \n",
    "  \n",
    "            quit() \n",
    "  \n",
    "        # drukt alles af op het scherm  \n"
   ]
  },
  {
   "cell_type": "code",
   "execution_count": null,
   "metadata": {},
   "outputs": [],
   "source": []
  }
 ],
 "metadata": {
  "kernelspec": {
   "display_name": "Python 3",
   "language": "python",
   "name": "python3"
  },
  "language_info": {
   "codemirror_mode": {
    "name": "ipython",
    "version": 3
   },
   "file_extension": ".py",
   "mimetype": "text/x-python",
   "name": "python",
   "nbconvert_exporter": "python",
   "pygments_lexer": "ipython3",
   "version": "3.7.1"
  }
 },
 "nbformat": 4,
 "nbformat_minor": 2
}
