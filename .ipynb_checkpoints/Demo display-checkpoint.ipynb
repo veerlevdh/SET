{
 "cells": [
  {
   "cell_type": "markdown",
   "metadata": {},
   "source": [
    "Hier staan alle benodigde imports. De class voor de kaarten staat in een los bestand zodat het niet in de wegstaat."
   ]
  },
  {
   "cell_type": "code",
<<<<<<< HEAD
   "execution_count": 1,
=======
   "execution_count": 2,
>>>>>>> c7da85bec42fd17fa22f4f30d55bd438366c3d9f
   "metadata": {},
   "outputs": [
    {
     "name": "stdout",
     "output_type": "stream",
     "text": [
      "pygame 1.9.6\n",
      "Hello from the pygame community. https://www.pygame.org/contribute.html\n"
     ]
    }
   ],
   "source": [
    "import Dek_functies as dek\n",
    "import Kaart_class as cards\n",
    "import pygame\n",
    "import random"
   ]
  },
  {
   "cell_type": "markdown",
   "metadata": {},
   "source": [
    "Kaarten  maak je op de volgende manier aan."
   ]
  },
  {
   "cell_type": "code",
<<<<<<< HEAD
   "execution_count": 2,
=======
   "execution_count": 7,
>>>>>>> c7da85bec42fd17fa22f4f30d55bd438366c3d9f
   "metadata": {},
   "outputs": [],
   "source": [
    "card = cards.kaart(0,0,1,1)\n",
    "b = cards.kaart(0,1,1,1)\n",
    "c = cards.kaart(0,-1,1,1)\n",
    "d = cards.kaart(1,1,1,1)"
   ]
  },
  {
   "cell_type": "markdown",
   "metadata": {},
   "source": [
    "deze hebben een aantal eigenschappen. De eerste vier zijn coördinaten en de laatste een bestand met de bijbehorende foto.\n"
   ]
  },
  {
   "cell_type": "code",
<<<<<<< HEAD
   "execution_count": 3,
=======
   "execution_count": 4,
>>>>>>> c7da85bec42fd17fa22f4f30d55bd438366c3d9f
   "metadata": {},
   "outputs": [
    {
     "name": "stdout",
     "output_type": "stream",
     "text": [
      "0\n",
      "1\n",
      "1\n",
      "0\n",
      "<Surface(200x100x32 SW)>\n"
     ]
    }
   ],
   "source": [
    "print(card.kleur)\n",
    "print(card.vorm)\n",
    "print(card.vulling)\n",
    "print(card.aantal)\n",
    "print(card.image)"
   ]
  },
  {
   "cell_type": "code",
<<<<<<< HEAD
   "execution_count": null,
   "metadata": {},
   "outputs": [
    {
     "name": "stdout",
     "output_type": "stream",
     "text": [
      "[[0, 3, 4], [1, 6, 11], [6, 9, 10]]\n"
     ]
    }
   ],
   "source": [
    "alle_kaarten = dek.maak_dek()\n",
    "gedeelde_kaarten = dek.eerste_keer_delen(alle_kaarten)\n",
    "gevonden_sets = dek.alle_sets_vinden(gedeelde_kaarten)\n",
    "print(gevonden_sets)\n",
=======
   "execution_count": 5,
   "metadata": {},
   "outputs": [],
   "source": [
    "alle_kaarten = dek.maak_dek()\n",
    "gedeelde_kaarten = dek.eerste_keer_delen(alle_kaarten)\n",
>>>>>>> c7da85bec42fd17fa22f4f30d55bd438366c3d9f
    "\n",
    "k1= gedeelde_kaarten[0]\n",
    "k2= gedeelde_kaarten[1]\n",
    "k3= gedeelde_kaarten[2]\n",
    "k4= gedeelde_kaarten[3]\n",
    "k5= gedeelde_kaarten[4]\n",
    "k6= gedeelde_kaarten[5]\n",
    "k7= gedeelde_kaarten[6]\n",
    "k8= gedeelde_kaarten[7]\n",
    "k9= gedeelde_kaarten[8]\n",
    "k10=gedeelde_kaarten[9]\n",
    "k11=gedeelde_kaarten[10]\n",
<<<<<<< HEAD
    "k12=gedeelde_kaarten[11]\n"
=======
    "k12=gedeelde_kaarten[11]"
>>>>>>> c7da85bec42fd17fa22f4f30d55bd438366c3d9f
   ]
  },
  {
   "cell_type": "code",
<<<<<<< HEAD
   "execution_count": null,
   "metadata": {},
   "outputs": [
    {
     "data": {
      "text/plain": [
       "False"
      ]
     },
     "execution_count": 5,
     "metadata": {},
     "output_type": "execute_result"
    }
   ],
   "source": [
    "dek.set_aanwijzen(gedeelde_kaarten,1,7,11)"
   ]
  },
  {
   "cell_type": "markdown",
   "metadata": {},
   "source": [
    "### De volgende functie bepaalt de locaties van de 12 kaarten"
=======
   "execution_count": 25,
   "metadata": {},
   "outputs": [
    {
     "name": "stdout",
     "output_type": "stream",
     "text": [
      "([0, 200, 400, 600], [0, 333, 666])\n"
     ]
    }
   ],
   "source": [
    "def locatie_kaarten(X,Y):\n",
    "    Y_coordinaten = []\n",
    "    hoogte = Y/4\n",
    "    X_coordinaten = []\n",
    "    breedte = X/3\n",
    "    for i in range(3):\n",
    "        X_coordinaten.append(int(i*breedte))\n",
    "    for j in range(4):\n",
    "        Y_coordinaten.append(int(j*hoogte))\n",
    "    return Y_coordinaten, X_coordinaten\n",
    "print(locatie_kaarten(1000,800))"
>>>>>>> c7da85bec42fd17fa22f4f30d55bd438366c3d9f
   ]
  },
  {
   "cell_type": "code",
<<<<<<< HEAD
   "execution_count": null,
   "metadata": {},
   "outputs": [],
   "source": [
    "def locatie_kaarten(X,Y):\n",
    "    Y_coordinaten = []\n",
    "    hoogte = (Y-100)/4\n",
    "    X_coordinaten = []\n",
    "    breedte = (X-100)/3\n",
    "    for i in range(3):\n",
    "        X_coordinaten.append(50+int(i*breedte))\n",
    "    for j in range(4):\n",
    "        Y_coordinaten.append(50+int(j*hoogte))\n",
    "    return Y_coordinaten, X_coordinaten"
=======
   "execution_count": 23,
   "metadata": {},
   "outputs": [
    {
     "name": "stdout",
     "output_type": "stream",
     "text": [
      "([800, 600, 400, 200], [1000, 666, 333])\n"
     ]
    }
   ],
   "source": [
    "print(locatie_kaarten(1000,800))"
>>>>>>> c7da85bec42fd17fa22f4f30d55bd438366c3d9f
   ]
  },
  {
   "cell_type": "markdown",
   "metadata": {},
   "source": [
<<<<<<< HEAD
    "### Vervolgens laten we de twaalf kaarten afbeelden op het scherm"
=======
    "Volgende stukje komt van internet maar kan de vier bovenstaande kaarten laten zien in pygame"
>>>>>>> c7da85bec42fd17fa22f4f30d55bd438366c3d9f
   ]
  },
  {
   "cell_type": "code",
<<<<<<< HEAD
   "execution_count": null,
   "metadata": {},
   "outputs": [
    {
     "name": "stdout",
     "output_type": "stream",
     "text": [
      "klik []\n",
      "klik [0]\n",
      "klik [0, 3]\n",
      "[0, 3, 4]\n",
      "dat is een set, gefeliciflapstaart!!!\n",
      "klik []\n",
      "klik [4]\n",
      "klik [4, 7]\n",
      "[4, 7, 8]\n",
      "dat is een set, gefeliciflapstaart!!!\n",
      "klik []\n",
      "klik [0]\n",
      "klik [0, 1]\n",
      "[0, 1, 2]\n",
      "Leipe kut mogool, das geen set :(\n"
=======
   "execution_count": 6,
   "metadata": {},
   "outputs": [
    {
     "ename": "AttributeError",
     "evalue": "'int' object has no attribute 'image'",
     "output_type": "error",
     "traceback": [
      "\u001b[1;31m---------------------------------------------------------------------------\u001b[0m",
      "\u001b[1;31mAttributeError\u001b[0m                            Traceback (most recent call last)",
      "\u001b[1;32m<ipython-input-6-28b49d008e0e>\u001b[0m in \u001b[0;36m<module>\u001b[1;34m\u001b[0m\n\u001b[0;32m     33\u001b[0m     \u001b[1;32mfor\u001b[0m \u001b[0mi\u001b[0m \u001b[1;32min\u001b[0m \u001b[0mrange\u001b[0m\u001b[1;33m(\u001b[0m\u001b[1;36m12\u001b[0m\u001b[1;33m)\u001b[0m\u001b[1;33m:\u001b[0m\u001b[1;33m\u001b[0m\u001b[1;33m\u001b[0m\u001b[0m\n\u001b[0;32m     34\u001b[0m         \u001b[1;32mfor\u001b[0m \u001b[0mj\u001b[0m \u001b[1;32min\u001b[0m \u001b[1;33m[\u001b[0m\u001b[1;36m0\u001b[0m\u001b[1;33m,\u001b[0m \u001b[1;36m200\u001b[0m\u001b[1;33m]\u001b[0m\u001b[1;33m:\u001b[0m\u001b[1;33m\u001b[0m\u001b[1;33m\u001b[0m\u001b[0m\n\u001b[1;32m---> 35\u001b[1;33m             \u001b[0mdisplay_surface\u001b[0m\u001b[1;33m.\u001b[0m\u001b[0mblit\u001b[0m\u001b[1;33m(\u001b[0m\u001b[0mi\u001b[0m\u001b[1;33m.\u001b[0m\u001b[0mimage\u001b[0m\u001b[1;33m,\u001b[0m \u001b[1;33m(\u001b[0m\u001b[0mj\u001b[0m\u001b[1;33m,\u001b[0m \u001b[1;36m0\u001b[0m\u001b[1;33m)\u001b[0m\u001b[1;33m)\u001b[0m\u001b[1;33m\u001b[0m\u001b[1;33m\u001b[0m\u001b[0m\n\u001b[0m\u001b[0;32m     36\u001b[0m \u001b[1;33m\u001b[0m\u001b[0m\n\u001b[0;32m     37\u001b[0m \u001b[1;33m\u001b[0m\u001b[0m\n",
      "\u001b[1;31mAttributeError\u001b[0m: 'int' object has no attribute 'image'"
>>>>>>> c7da85bec42fd17fa22f4f30d55bd438366c3d9f
     ]
    }
   ],
   "source": [
<<<<<<< HEAD
    "\n",
    "pygame.init() \n",
    "  \n",
    "# definieer zwart\n",
    "zwart = (0,0,0) \n",
    "  \n",
    "# bepaal de breedte (X) en hoogte (Y) van je scherm \n",
    "X = 800\n",
    "Y = 600\n",
    "pleky, plekx = locatie_kaarten(X,Y)\n",
    "  \n",
    "# maak een scherm van grootte X bij Y \n",
    "display_surface = pygame.display.set_mode((X, Y )) \n",
    "  \n",
    "# geef je scherm een naam\n",
    "pygame.display.set_caption('SET') \n",
    "geklikt= []\n",
    "i = 0\n",
    "while True : \n",
    "      # vul je scherm zwart\n",
    "    display_surface.fill(zwart) \n",
    "    k1= gedeelde_kaarten[0]\n",
    "    k2= gedeelde_kaarten[1]\n",
    "    k3= gedeelde_kaarten[2]\n",
    "    k4= gedeelde_kaarten[3]\n",
    "    k5= gedeelde_kaarten[4]\n",
    "    k6= gedeelde_kaarten[5]\n",
    "    k7= gedeelde_kaarten[6]\n",
    "    k8= gedeelde_kaarten[7]\n",
    "    k9= gedeelde_kaarten[8]\n",
    "    k10=gedeelde_kaarten[9]\n",
    "    k11=gedeelde_kaarten[10]\n",
    "    k12=gedeelde_kaarten[11]\n",
    "   # plak de afbeeldingen van de twaalf kaarten op de locaties die we eerder met de functie locatie_kaarten hebben bepaald\n",
    "    display_surface.blit(k1.image, (plekx[0], pleky[0]))\n",
    "    display_surface.blit(k2.image, (plekx[1],pleky[0]))\n",
    "    display_surface.blit(k3.image, (plekx[2],pleky[0]))\n",
    "    display_surface.blit(k4.image, (plekx[0],pleky[1]))\n",
    "    display_surface.blit(k5.image, (plekx[1],pleky[1]))\n",
    "    display_surface.blit(k6.image, (plekx[2],pleky[1]))\n",
    "    display_surface.blit(k7.image, (plekx[0],pleky[2]))\n",
    "    display_surface.blit(k8.image, (plekx[1],pleky[2]))\n",
    "    display_surface.blit(k9.image, (plekx[2],pleky[2]))\n",
    "    display_surface.blit(k10.image, (plekx[0],pleky[3]))\n",
    "    display_surface.blit(k11.image, (plekx[1],pleky[3]))\n",
    "    display_surface.blit(k12.image, (plekx[2],pleky[3]))\n",
=======
    "# activate the pygame library . \n",
    "# initiate pygame and give permission \n",
    "# to use pygame's functionality. \n",
    "pygame.init() \n",
    "  \n",
    "# define the RGB value \n",
    "# for white colour \n",
    "white = (255, 255, 255) \n",
    "  \n",
    "# assigning values to X and Y variable \n",
    "X = 400\n",
    "Y = 500\n",
    "  \n",
    "# create the display surface object \n",
    "# of specific dimension..e(X, Y). \n",
    "display_surface = pygame.display.set_mode((X, Y )) \n",
    "  \n",
    "# set the pygame window name \n",
    "pygame.display.set_caption('SET') \n",
    "  \n",
    "# create a surface object, image is drawn on it. \n",
    "  \n",
    "# infinite loop \n",
    "while True : \n",
    "  \n",
    "    # completely fill the surface object \n",
    "    # with white colour \n",
    "    display_surface.fill(white) \n",
    "  \n",
    "    # copying the image surface object \n",
    "    # to the display surface object at \n",
    "    # (0, 0) coordinate. \n",
    "    for i in range(12):\n",
    "        for j in [0, 200]:\n",
    "            display_surface.blit(i.image, (j, 0))\n",
>>>>>>> c7da85bec42fd17fa22f4f30d55bd438366c3d9f
    "    \n",
    "    \n",
    "  \n",
    "    # iterate over the list of Event objects \n",
    "    # that was returned by pygame.event.get() method. \n",
    "    for event in pygame.event.get() : \n",
<<<<<<< HEAD
    "\n",
    "        aan = False\n",
    "        if event.type == pygame.KEYDOWN:\n",
    "            print(\"klik\",geklikt)\n",
    "            while i<3 and aan == False:\n",
    "                if event.key == pygame.K_1:\n",
    "                    geklikt.append(0)\n",
    "                    aan = True\n",
    "                    i +=1\n",
    "                if event.key == pygame.K_2:\n",
    "                    geklikt.append(1)\n",
    "                    aan = True\n",
    "                    i +=1\n",
    "                if event.key == pygame.K_3:\n",
    "                    geklikt.append(2)\n",
    "                    aan = True\n",
    "                    i +=1\n",
    "                if event.key == pygame.K_4:\n",
    "                    geklikt.append(3)\n",
    "                    aan = True\n",
    "                    i +=1\n",
    "                if event.key == pygame.K_5:\n",
    "                    geklikt.append(4)\n",
    "                    aan = True\n",
    "                    i +=1\n",
    "                if event.key == pygame.K_6:\n",
    "                    geklikt.append(5)\n",
    "                    aan = True\n",
    "                    i +=1\n",
    "                if event.key == pygame.K_7:\n",
    "                    geklikt.append(6)\n",
    "                    aan = True\n",
    "                    i +=1\n",
    "                if event.key == pygame.K_8:\n",
    "                    geklikt.append(7)\n",
    "                    aan = True\n",
    "                    i +=1\n",
    "                if event.key == pygame.K_9:\n",
    "                    geklikt.append(8)\n",
    "                    aan = True\n",
    "                    i +=1\n",
    "                if event.key == pygame.K_0:\n",
    "                    geklikt.append(9)\n",
    "                    aan = True\n",
    "                    i +=1\n",
    "                if event.key == pygame.K_q:\n",
    "                    geklikt.append(10)\n",
    "                    aan = True\n",
    "                    i +=1\n",
    "                if event.key == pygame.K_w:\n",
    "                    geklikt.append(11)\n",
    "                    aan = True\n",
    "                    i +=1\n",
    "            if i == 3:\n",
    "                print(geklikt)\n",
    "                klopt = dek.set_aanwijzen(gedeelde_kaarten,geklikt[0],geklikt[1],geklikt[2])\n",
    "                if klopt == True:\n",
    "                    print(\"dat is een set, gefeliciflapstaart!!!\")\n",
    "                    dek.set_vervangen(gedeelde_kaarten, geklikt[0],geklikt[1],geklikt[2], alle_kaarten)\n",
    "                else:\n",
    "                    print(\"Leipe kut mogool, das geen set :(\")\n",
    "                i = 0\n",
    "                geklikt= []\n",
    "            \n",
    "        \n",
=======
    "  \n",
>>>>>>> c7da85bec42fd17fa22f4f30d55bd438366c3d9f
    "        # if event object type is QUIT \n",
    "        # then quitting the pygame \n",
    "        # and program both. \n",
    "        if event.type == pygame.QUIT : \n",
    "  \n",
    "            # deactivates the pygame library \n",
    "            pygame.quit() \n",
    "  \n",
    "            # quit the program. \n",
    "            quit() \n",
    "  \n",
<<<<<<< HEAD
    "        # drukt alles af op het scherm  \n",
=======
    "        # Draws the surface object to the screen.   \n",
>>>>>>> c7da85bec42fd17fa22f4f30d55bd438366c3d9f
    "        pygame.display.update()\n"
   ]
  },
  {
   "cell_type": "code",
   "execution_count": null,
   "metadata": {},
   "outputs": [],
   "source": [
<<<<<<< HEAD
    "    a= 0\n",
    "    a+=1\n",
    "    print(a)"
=======
    "    "
>>>>>>> c7da85bec42fd17fa22f4f30d55bd438366c3d9f
   ]
  },
  {
   "cell_type": "code",
   "execution_count": null,
   "metadata": {},
   "outputs": [],
   "source": [
    " "
   ]
  }
 ],
 "metadata": {
  "kernelspec": {
   "display_name": "Python 3",
   "language": "python",
   "name": "python3"
  },
  "language_info": {
   "codemirror_mode": {
    "name": "ipython",
    "version": 3
   },
   "file_extension": ".py",
   "mimetype": "text/x-python",
   "name": "python",
   "nbconvert_exporter": "python",
   "pygments_lexer": "ipython3",
   "version": "3.7.1"
  }
 },
 "nbformat": 4,
 "nbformat_minor": 2
}
